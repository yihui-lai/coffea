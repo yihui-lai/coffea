{
 "cells": [
  {
   "cell_type": "markdown",
   "metadata": {},
   "source": [
    "# MySchema\n",
    "\n",
    "This is a rendered copy of myschema.ipynb. You can optionally run it interactively on [binder at this link](https://mybinder.org/v2/gh/yihui-lai/coffea/5a506e83975baa75fdf3ac92de720aef79aa1446)\n",
    "\n",
    "The interpretation of the TTree data is configurable via schema objects. Schema teachs the event processor how to group variables into collections, so operations can be run over entire collection at once:\n",
    "\n",
    "In this demo, we will create our own schema and implement our own [behaviors](https://awkward-array.readthedocs.io/en/latest/ak.behavior.html). \n",
    "\n",
    "First, Let's look at the root file with `NanoAODSchema` and see what's inside of it. The events object can be instantiated as follows:\n"
   ]
  },
  {
   "cell_type": "code",
   "execution_count": 1,
   "metadata": {},
   "outputs": [
    {
     "name": "stdout",
     "output_type": "stream",
     "text": [
      "['deltaEtaSC', 'dr03EcalRecHitSumEt', 'dr03HcalDepth1TowerSumEt', 'dr03TkSumPt', 'dr03TkSumPtHEEP', 'dxy', 'dxyErr', 'dz', 'dzErr', 'eCorr', 'eInvMinusPInv', 'energyErr', 'eta', 'hoe', 'ip3d', 'jetPtRelv2', 'jetRelIso', 'mass', 'miniPFRelIso_all', 'miniPFRelIso_chg', 'mvaFall17V1Iso', 'mvaFall17V1noIso', 'mvaFall17V2Iso', 'mvaFall17V2noIso', 'pfRelIso03_all', 'pfRelIso03_chg', 'phi', 'pt', 'r9', 'sieie', 'sip3d', 'mvaTTH', 'charge', 'cutBased', 'cutBased_Fall17_V1', 'jetIdx', 'pdgId', 'photonIdx', 'tightCharge', 'vidNestedWPBitmap', 'vidNestedWPBitmapHEEP', 'convVeto', 'cutBased_HEEP', 'isPFcand', 'lostHits', 'mvaFall17V1Iso_WP80', 'mvaFall17V1Iso_WP90', 'mvaFall17V1Iso_WPL', 'mvaFall17V1noIso_WP80', 'mvaFall17V1noIso_WP90', 'mvaFall17V1noIso_WPL', 'mvaFall17V2Iso_WP80', 'mvaFall17V2Iso_WP90', 'mvaFall17V2Iso_WPL', 'mvaFall17V2noIso_WP80', 'mvaFall17V2noIso_WP90', 'mvaFall17V2noIso_WPL', 'seedGain', 'genPartIdx', 'genPartFlav', 'cleanmask', 'jetIdxG', 'photonIdxG', 'genPartIdxG']\n"
     ]
    }
   ],
   "source": [
    "from coffea.nanoevents import NanoEventsFactory, BaseSchema, NanoAODSchema\n",
    "fname = \"https://raw.githubusercontent.com/CoffeaTeam/coffea/master/tests/samples/nano_dy.root\"\n",
    "events = NanoEventsFactory.from_root(\n",
    "           fname, \n",
    "           schemaclass=NanoAODSchema\n",
    "         ).events()\n",
    "print(events.Electron.fields)"
   ]
  },
  {
   "cell_type": "markdown",
   "metadata": {},
   "source": [
    "Now we can copy the skeleton of a schema class:"
   ]
  },
  {
   "cell_type": "code",
   "execution_count": 2,
   "metadata": {},
   "outputs": [],
   "source": [
    "class MySchema(BaseSchema):\n",
    "    \"\"\"\n",
    "    my schema\n",
    "    \"\"\"\n",
    "    def __init__(self, base_form):\n",
    "        super().__init__(base_form)\n",
    "        self._form[\"contents\"] = self._build_collections(self._form[\"contents\"])\n",
    "\n",
    "    def _build_collections(self, branch_forms):\n",
    "        output = {}\n",
    "        return output\n",
    "\n",
    "    @property\n",
    "    def behavior(self):\n",
    "        \"\"\"\n",
    "        Behaviors necessary to implement this schema\n",
    "        \"\"\"\n",
    "        behavior = {}\n",
    "        return behavior"
   ]
  },
  {
   "cell_type": "markdown",
   "metadata": {},
   "source": [
    "As you can see, this schema is so simple and it is not useful currently. If we call the `events` again with our own schema, we'll find it contains nothing."
   ]
  },
  {
   "cell_type": "code",
   "execution_count": 3,
   "metadata": {},
   "outputs": [
    {
     "data": {
      "text/plain": [
       "[]"
      ]
     },
     "execution_count": 3,
     "metadata": {},
     "output_type": "execute_result"
    }
   ],
   "source": [
    "events = NanoEventsFactory.from_root(\n",
    "           fname, \n",
    "           schemaclass=MySchema\n",
    "         ).events()\n",
    "events.fields"
   ]
  },
  {
   "cell_type": "markdown",
   "metadata": {},
   "source": [
    "## Create collections\n",
    "\n",
    "In schema, the `branch_forms` is a python dictionary used to define branch grouping. \n",
    "\n",
    "By default (`BaseSchema`), it will be completely flat:\n",
    "```python\n",
    "branch_form={\n",
    "  \"particle_pt\":{},\n",
    "  \"particle_eta\":{},\n",
    "  \"particle_phi\":{},\n",
    "  \"particle_mass\":{},\n",
    "  ...\n",
    "}\n",
    "```\n",
    "\n",
    "What we want is to put some branches into the same collection:\n",
    "\n",
    "```python\n",
    "new_branch_form={\n",
    "  \"particle\": schemas.zip_forms({\n",
    "      \"pt\" : branch_form[\"particle_pt\"],\n",
    "      \"eta\" : branch_form[\"particle_eta\"],\n",
    "      \"phi\" : branch_form[\"particle_phi\"],\n",
    "      \"mass\" : branch_form[\"particle_mass\"],\n",
    "  })\n",
    "}\n",
    "```\n",
    "So when we want to call `particle_pt`, we actually do `particle.pt`.\n",
    "\n",
    "All of this is to be implemented in the `Schema._build_collections` method. \n",
    "\n",
    "For example, let's add the `Electron` collection to our schema. To do this we also need to import `zip_forms`."
   ]
  },
  {
   "cell_type": "code",
   "execution_count": 4,
   "metadata": {},
   "outputs": [],
   "source": [
    "from coffea.nanoevents.schemas.base import zip_forms, nest_jagged_forms\n",
    "class MySchema(BaseSchema):\n",
    "    \"\"\"\n",
    "    my schema\n",
    "    \"\"\"\n",
    "    def __init__(self, base_form):\n",
    "        super().__init__(base_form)\n",
    "        self._form[\"contents\"] = self._build_collections(self._form[\"contents\"])\n",
    "\n",
    "    def _build_collections(self, branch_forms):\n",
    "        output = {}\n",
    "        output[\"Electron\"] = zip_forms(\n",
    "            {\n",
    "                \"pt\" : branch_forms[\"Electron_pt\"],\n",
    "                \"eta\" : branch_forms [\"Electron_eta\"] , \n",
    "                \"phi\": branch_forms[\"Electron_phi\"],\n",
    "                \"mass\": branch_forms[\"Electron_mass\"],\n",
    "                #\"xx\": branch_forms[\"Electron_xx\"],\n",
    "            },\n",
    "            \"Electron\",\n",
    "        )\n",
    "        return output\n",
    "\n",
    "    @property\n",
    "    def behavior(self):\n",
    "        \"\"\"\n",
    "        Behaviors necessary to implement this schema\n",
    "        \"\"\"\n",
    "        behavior = {}\n",
    "        return behavior"
   ]
  },
  {
   "cell_type": "markdown",
   "metadata": {},
   "source": [
    "Now we successfully created a schema with one collection `Electron`. It will be able to recognize branches with name `Electron_pt, Electron_eta, Electron_phi, Electron_mass`.\n",
    "Try to call the `events` again."
   ]
  },
  {
   "cell_type": "code",
   "execution_count": 5,
   "metadata": {},
   "outputs": [
    {
     "name": "stdout",
     "output_type": "stream",
     "text": [
      "['Electron']\n",
      "['pt', 'eta', 'phi', 'mass']\n"
     ]
    }
   ],
   "source": [
    "events = NanoEventsFactory.from_root(\n",
    "           fname, \n",
    "           schemaclass=MySchema\n",
    "         ).events()\n",
    "print(events.fields)\n",
    "print(events.Electron.fields)"
   ]
  },
  {
   "cell_type": "markdown",
   "metadata": {},
   "source": [
    "We can use the mask and do selection on the whole collection at once now:"
   ]
  },
  {
   "cell_type": "code",
   "execution_count": 6,
   "metadata": {},
   "outputs": [
    {
     "name": "stdout",
     "output_type": "stream",
     "text": [
      "[[], [29.6], [51.7], [10.7, 8.6], [], [9.91, ... [], [15.6], [], [7.68], [], []]\n",
      "[[], [1.83], [-0.904], [-2.19, 1.65], [], ... [], [-0.0595], [], [0.381], [], []]\n"
     ]
    }
   ],
   "source": [
    "mask = (events.Electron.pt>3) & (events.Electron.pt<60)\n",
    "good_elec = events.Electron[mask]\n",
    "print(good_elec.pt)\n",
    "print(good_elec.eta)"
   ]
  },
  {
   "cell_type": "markdown",
   "metadata": {},
   "source": [
    "However, if you require some branches that your root file doesn't contain, errors will be returned. \n",
    "For example, uncomment the following line in `MySchema`:\n",
    "```python\n",
    "\"xx\": branch_forms[\"Electron_xx\"],\n",
    "```\n",
    "Run the above code again, you will see:\n",
    "```bash\n",
    "KeyError: 'Electron_xx'\n",
    "```"
   ]
  },
  {
   "cell_type": "markdown",
   "metadata": {},
   "source": [
    "## Create behavior\n",
    "\n",
    "Aside from collections, we can also add `behavior` to collections. This means additional awkward arrays are generated on-the-fly via predefined algorithm.\n",
    "\n",
    "A bunch of common physics behaviors are already provided in coffea, and you can find them in [methods](https://github.com/CoffeaTeam/coffea/tree/a95401cad91e88ceac47a4c693068bc4cbc7d338/coffea/nanoevents/methods).\n",
    "\n",
    "To write our own coffea behavior, first we need to define the `behavior`. \n",
    "In the following code, we definded `MyBehavior`. It only has one function `plus1()`, which returns the `particle.pt +1` when you call `particle.plus1`.\n",
    "\n",
    "we also need to add the [`record_name`](https://github.com/CoffeaTeam/coffea/blob/a95401cad91e88ceac47a4c693068bc4cbc7d338/coffea/nanoevents/schemas/base.py#L24) to the collection in the `schema._build_collections` to tell the collection which `behavior` it should use.\n",
    "\n",
    "\n"
   ]
  },
  {
   "cell_type": "code",
   "execution_count": 7,
   "metadata": {},
   "outputs": [],
   "source": [
    "import awkward \n",
    "mybehavior={}\n",
    "@awkward.mixin_class(mybehavior)\n",
    "class MyBehavior:\n",
    "    \"\"\"\n",
    "    A test\n",
    "    \"\"\"\n",
    "    @property\n",
    "    def plus1(self):\n",
    "        \"\"\"\n",
    "        \"\"\"\n",
    "        return self.pt+1 \n",
    "\n",
    "class MySchema(BaseSchema):\n",
    "    \"\"\"\n",
    "    my schema\n",
    "    \"\"\"\n",
    "    def __init__(self, base_form):\n",
    "        super().__init__(base_form)\n",
    "        self._form[\"contents\"] = self._build_collections(self._form[\"contents\"])\n",
    "\n",
    "    def _build_collections(self, branch_forms):\n",
    "        output = {}\n",
    "        output[\"Electron\"] = zip_forms(\n",
    "            {\n",
    "                \"pt\" : branch_forms[\"Electron_pt\"],\n",
    "                \"eta\" : branch_forms [\"Electron_eta\"] , \n",
    "                \"phi\": branch_forms[\"Electron_phi\"],\n",
    "                \"mass\": branch_forms[\"Electron_mass\"],\n",
    "                #\"xx\": branch_forms[\"Electron_xx\"],\n",
    "            },\n",
    "            \"Electron\",\n",
    "            \"MyBehavior\",\n",
    "        )\n",
    "        return output\n",
    "\n",
    "    @property\n",
    "    def behavior(self):\n",
    "        \"\"\"\n",
    "        Behaviors necessary to implement this schema\n",
    "        \"\"\"\n",
    "        behavior = {}\n",
    "        behavior.update(mybehavior)\n",
    "        return behavior"
   ]
  },
  {
   "cell_type": "markdown",
   "metadata": {},
   "source": [
    "Now try our self-defined behavior:"
   ]
  },
  {
   "cell_type": "code",
   "execution_count": 8,
   "metadata": {
    "scrolled": true
   },
   "outputs": [
    {
     "name": "stdout",
     "output_type": "stream",
     "text": [
      "[[], [29.6], [60.1, 51.7], [10.7, 8.6], [], ... [], [15.6], [], [7.68], [], []]\n",
      "[[], [30.6], [61.1, 52.7], [11.7, 9.6], [], ... [], [16.6], [], [8.68], [], []]\n"
     ]
    }
   ],
   "source": [
    "events = NanoEventsFactory.from_root(\n",
    "           fname, \n",
    "           schemaclass=MySchema\n",
    "         ).events()\n",
    "print(events.Electron.pt)\n",
    "print(events.Electron.plus1)"
   ]
  },
  {
   "cell_type": "markdown",
   "metadata": {},
   "source": [
    "## Inherit from NanoEvents\n",
    "\n",
    "So far we showed how to create custom schemas and behaviors. Actually, if you don't want to write a new schema, you can name the TBranch with the same naming convention as NanoAOD and use the `NanoAODSchema`. Then it will be recognized automatically. \n",
    "\n",
    "Looking at the content of [NanoAOD file](https://cms-nanoaod-integration.web.cern.ch/integration/master-cmsswmaster/mc102X_doc.html), most of collections contain 2 kinds of branches. One is `{collection}_{object}`, another is `n{collection}`. \n",
    "\n",
    "The `_build_collections` of `NanoAODSchema` groups objects with the same collection and takes the `n{collection}` as the offset of this collection:\n",
    "\n",
    "```python\n",
    "    def _build_collections(self, branch_forms):\n",
    "        # parse into high-level records (collections, list collections, and singletons)\n",
    "        collections = set(k.split(\"_\")[0] for k in branch_forms)\n",
    "        collections -= set(\n",
    "            k for k in collections if k.startswith(\"n\") and k[1:] in collections\n",
    "        )\n",
    "\n",
    "        # Create offsets virtual arrays\n",
    "        for name in collections:\n",
    "            if \"n\" + name in branch_forms:\n",
    "                branch_forms[\"o\" + name] = transforms.counts2offsets_form(\n",
    "                    branch_forms[\"n\" + name]\n",
    "                )\n",
    "```\n",
    "\n",
    "For example, one can either use arrays or vectors:\n",
    "```C++\n",
    "{\n",
    "    UInt_t run, event, luminosityBlock;\n",
    "    UInt_t nMuon;\n",
    "    Float_t Muon_pt[9999];\n",
    "    Float_t Muon_eta[9999];\n",
    "    Float_t Muon_phi[9999];\n",
    "    Float_t Muon_mass[9999];\n",
    "    \n",
    "    UInt_t nElectron;\n",
    "    std::vector<float> Electron_pt;\n",
    "    std::vector<float> Electron_eta;\n",
    "    std::vector<float> Electron_phi;\n",
    "    std::vector<float> Electron_mass;\n",
    " \n",
    "    TFile *Tfile = Tfile = TFile::Open(\"example_ntuple.root\",\"RECREATE\");\n",
    "    TTree *ttree = new TTree(\"Events\",\"\");\n",
    "\n",
    "    ttree->Branch(\"run\", &run, \"run/I\");\n",
    "    ttree->Branch(\"luminosityBlock\", &luminosityBlock, \"luminosityBlock/I\");\n",
    "    ttree->Branch(\"event\", &event, \"event/I\");\n",
    "    \n",
    "    ttree->Branch(\"nMuon\", &nMuon, \"nMuon/i\");\n",
    "    ttree->Branch(\"Muon_pt\", &Muon_pt, \"Muon_pt[nMuon]/F\");\n",
    "    ttree->Branch(\"Muon_eta\", &Muon_eta, \"Muon_eta[nMuon]/F\");\n",
    "    ttree->Branch(\"Muon_phi\", &Muon_phi, \"Muon_phi[nMuon]/F\");\n",
    "    ttree->Branch(\"Muon_mass\", &Muon_mass, \"Muon_mass[nMuon]/F\");\n",
    "    \n",
    "    ttree->Branch(\"nElectron\", &nElectron, \"nElectron/i\");\n",
    "    ttree->Branch(\"Electron_pt\", &Electron_pt);\n",
    "    ttree->Branch(\"Electron_eta\", &Electron_eta);\n",
    "    ttree->Branch(\"Electron_phi\", &Electron_phi);\n",
    "    ttree->Branch(\"Electron_mass\", &Electron_mass);\n",
    "    \n",
    "    for (Int_t ev=0;ev<100;ev++) {\n",
    "        run=1;\n",
    "        event=ev;\n",
    "        luminosityBlock=1000*ev;\n",
    "        Int_t nmu = Int_t(5*gRandom->Rndm());\n",
    "        Int_t nele = Int_t(5*gRandom->Rndm());\n",
    "        nMuon = nmu;\n",
    "        nElectron = nele;\n",
    "        \n",
    "        if(nmu < 0) nmu = 0;\n",
    "        for (Int_t im=0;im<nmu;im++) {\n",
    "            Muon_pt[im] = gRandom->Gaus(50,10);\n",
    "            Muon_eta[im] = gRandom->Rndm();\n",
    "            Muon_phi[im] = gRandom->Rndm();\n",
    "            Muon_mass[im] = 200;\n",
    "        }\n",
    "        \n",
    "        if(nele < 0) nele = 0;\n",
    "        Electron_pt.clear();\n",
    "        Electron_eta.clear();\n",
    "        Electron_phi.clear();\n",
    "        Electron_mass.clear();\n",
    "        for (Int_t in=0;in<nele;in++) {\n",
    "            Electron_pt.push_back(gRandom->Gaus(50,10));\n",
    "            Electron_eta.push_back(gRandom->Rndm());\n",
    "            Electron_phi.push_back(gRandom->Rndm());\n",
    "            Electron_mass.push_back(1);\n",
    "        }\n",
    "        ttree->Fill();\n",
    "    }\n",
    "    \n",
    "    ttree->Write();\n",
    "}\n",
    "```\n",
    "By doing so, you can also make use of the `behaviors` in `NanoAODSchema` automatically, which is very convenient. \n"
   ]
  },
  {
   "cell_type": "markdown",
   "metadata": {},
   "source": [
    "## nest_jagged_forms\n",
    "\n",
    "Another more involved thing is the construction of the embedded objects. Think subjets being included as a list of objects within a jet collection. \n",
    "\n",
    "Again, let's use a simple macro generating our toy root ntuples:\n",
    "```C++\n",
    "{\n",
    "\n",
    "    Int_t Jets_nJet;\n",
    "    vector<double> Jets_Pt;         //[Jets_nJet]\n",
    "    vector<double> Jets_Eta;        //[Jets_nJet]\n",
    "    vector<double> Jets_Phi;        //[Jets_nJet]\n",
    "    vector<double> Jets_E;          //[Jets_nJet]\n",
    "    vector<int> Jets_SubjetsCounts; //[Jets_nJet]\n",
    "    \n",
    "    Int_t Jets_nsubjet;\n",
    "    vector<double> Jets_subjet_Pt;  //[Jets_nsubjet]\n",
    "    vector<double> Jets_subjet_Eta; //[Jets_nsubjet]\n",
    "    vector<double> Jets_subjet_Phi; //[Jets_nsubjet]\n",
    "    vector<double> Jets_subjet_E;   //[Jets_nsubjet]\n",
    " \n",
    "    TFile *Tfile = Tfile = TFile::Open(\"example_ntuple.root\",\"RECREATE\");\n",
    "    TTree *ttree = new TTree(\"Events\",\"\");\n",
    "\n",
    "    ttree->Branch(\"Jets_nJet\", &Jets_nJet, \"Jets_nJet/i\");\n",
    "    ttree->Branch(\"Jets_Pt\", &Jets_Pt);\n",
    "    ttree->Branch(\"Jets_Eta\", &Jets_Eta);\n",
    "    ttree->Branch(\"Jets_Phi\", &Jets_Phi);\n",
    "    ttree->Branch(\"Jets_E\", &Jets_E);\n",
    "    ttree->Branch(\"Jets_SubjetsCounts\", &Jets_SubjetsCounts);\n",
    "    \n",
    "    ttree->Branch(\"Jets_nsubjet\", &Jets_nsubjet, \"Jets_nsubjet/i\");\n",
    "    ttree->Branch(\"Jets_subjet_Pt\", &Jets_subjet_Pt);\n",
    "    ttree->Branch(\"Jets_subjet_Eta\", &Jets_subjet_Eta);\n",
    "    ttree->Branch(\"Jets_subjet_Phi\", &Jets_subjet_Phi);\n",
    "    ttree->Branch(\"Jets_subjet_E\", &Jets_subjet_E);\n",
    "    \n",
    "    for (Int_t ev=0;ev<100;ev++) {\n",
    "        Jets_Pt.clear();\n",
    "        Jets_Eta.clear();\n",
    "        Jets_Phi.clear();\n",
    "        Jets_E.clear();\n",
    "        Jets_SubjetsCounts.clear();\n",
    "        Jets_subjet_Pt.clear();\n",
    "        Jets_subjet_Eta.clear();\n",
    "        Jets_subjet_Phi.clear();\n",
    "        Jets_subjet_E.clear();\n",
    "\n",
    "        Jets_nJet = Int_t(3 * gRandom->Rndm());\n",
    "        Jets_nsubjet = 0;\n",
    "        //this event has {Jets_nJet} jets \n",
    "        for (int i = 0; i < Jets_nJet; i++)\n",
    "        {\n",
    "            Jets_Pt.push_back(10 * gRandom->Rndm());\n",
    "            Jets_Eta.push_back(gRandom->Rndm());\n",
    "            Jets_Phi.push_back(gRandom->Rndm());\n",
    "            Jets_E.push_back(gRandom->Gaus(50, 10));\n",
    "            \n",
    "            //each jet has {jets_sub} subjets\n",
    "            Int_t jets_sub = Int_t(2 * gRandom->Rndm()) + 1;\n",
    "            Jets_nsubjet += jets_sub;\n",
    "            //Jets_SubjetsCounts stores the number of subjets in each jet\n",
    "            Jets_SubjetsCounts.push_back(jets_sub);\n",
    "            for (int i = 0; i < jets_sub; i++)\n",
    "            {\n",
    "                Jets_subjet_Pt.push_back(10 * gRandom->Rndm());\n",
    "                Jets_subjet_Eta.push_back(gRandom->Rndm());\n",
    "                Jets_subjet_Phi.push_back(gRandom->Rndm());\n",
    "                Jets_subjet_E.push_back(gRandom->Gaus(25, 10));\n",
    "            }\n",
    "        }\n",
    "        ttree->Fill();\n",
    "    }\n",
    "    \n",
    "    ttree->Write();\n",
    "}\n",
    "```\n",
    "What we would like to have are objects like:\n",
    "```python\n",
    "Jets.pt\n",
    "Jets.subjet.pt\n",
    "```\n",
    "rather than:\n",
    "```python\n",
    "Jets.pt\n",
    "Jets_subjet.pt\n",
    "```\n",
    "The following code shows how to put one list of objects to a collection. What we need is a list telling us the offset/index of each list. In our case, it is `Jets_SubjetsCounts`."
   ]
  },
  {
   "cell_type": "code",
   "execution_count": 9,
   "metadata": {},
   "outputs": [],
   "source": [
    "class MySchema(BaseSchema):\n",
    "    \"\"\"\n",
    "    my schema\n",
    "    \"\"\"\n",
    "    def __init__(self, base_form):\n",
    "        super().__init__(base_form)\n",
    "        self._form[\"contents\"] = self._build_collections(self._form[\"contents\"])\n",
    "\n",
    "    def _build_collections(self, branch_forms):\n",
    "        output = {}\n",
    "        output[\"Jets\"] = zip_forms(\n",
    "            {\n",
    "                \"pt\" : branch_forms[\"Jets_Pt\"],\n",
    "                \"eta\" : branch_forms [\"Jets_Eta\"] , \n",
    "                \"phi\": branch_forms[\"Jets_Phi\"],\n",
    "                \"e\": branch_forms[\"Jets_E\"],\n",
    "                \"SubjetsCounts\": branch_forms[\"Jets_SubjetsCounts\"],\n",
    "            },\n",
    "            \"Jets\",\n",
    "        )\n",
    "        output[\"Jets_subjet\"] = zip_forms(\n",
    "            {\n",
    "                \"pt\" : branch_forms[\"Jets_subjet_Pt\"],\n",
    "                \"eta\" : branch_forms [\"Jets_subjet_Eta\"] , \n",
    "                \"phi\": branch_forms[\"Jets_subjet_Phi\"],\n",
    "                \"e\": branch_forms[\"Jets_subjet_E\"],\n",
    "            },\n",
    "            \"Jets_subjet\",\n",
    "        )\n",
    "        \n",
    "        nest_jagged_forms(\n",
    "            output[\"Jets\"],\n",
    "            output.pop(\"Jets_subjet\"),\n",
    "            \"SubjetsCounts\",\n",
    "            \"subjet\",\n",
    "        )\n",
    "\n",
    "        return output\n",
    "  \n",
    "    @property\n",
    "    def behavior(self):\n",
    "        \"\"\"\n",
    "        Behaviors necessary to implement this schema\n",
    "        \"\"\"\n",
    "        behavior = {}\n",
    "        return behavior"
   ]
  },
  {
   "cell_type": "code",
   "execution_count": 10,
   "metadata": {},
   "outputs": [
    {
     "name": "stdout",
     "output_type": "stream",
     "text": [
      "['Jets']\n",
      "['pt', 'eta', 'phi', 'e', 'SubjetsCounts', 'subjet']\n",
      "['pt', 'eta', 'phi', 'e']\n",
      "[[], [3.47], [], [0.999], [], [1.33, ... [3.37, 1.52], [7.77, 4.24], [1.34, 4.87]]\n",
      "[[], [1], [], [2], [], [2], [2], [1, 2], ... 2], [], [2], [], [1, 1], [2, 2], [2, 2]]\n",
      "[[], [[7.24]], [], [[4.23, 0.0375]], ... [4.74, 8.69]], [[8.96, 7.94], [9.39, 3.33]]]\n"
     ]
    }
   ],
   "source": [
    "fname = \"https://raw.githubusercontent.com/yihui-lai/coffea/master/tests/samples/example_ntuple.root\"\n",
    "events = NanoEventsFactory.from_root(\n",
    "           fname, \n",
    "           schemaclass=MySchema\n",
    "         ).events()\n",
    "print(events.fields)\n",
    "print(events.Jets.fields)\n",
    "print(events.Jets.subjet.fields)\n",
    "print(events.Jets.pt)\n",
    "print(events.Jets.SubjetsCounts)\n",
    "print(events.Jets.subjet.pt)"
   ]
  },
  {
   "cell_type": "code",
   "execution_count": null,
   "metadata": {},
   "outputs": [],
   "source": []
  }
 ],
 "metadata": {
  "kernelspec": {
   "display_name": "Python 3",
   "language": "python",
   "name": "python3"
  },
  "language_info": {
   "codemirror_mode": {
    "name": "ipython",
    "version": 3
   },
   "file_extension": ".py",
   "mimetype": "text/x-python",
   "name": "python",
   "nbconvert_exporter": "python",
   "pygments_lexer": "ipython3",
   "version": "3.8.1"
  }
 },
 "nbformat": 4,
 "nbformat_minor": 2
}
