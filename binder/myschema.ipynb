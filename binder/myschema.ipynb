{
 "cells": [
  {
   "cell_type": "markdown",
   "metadata": {},
   "source": [
    "# MySchema\n",
    "\n",
    "This is a rendered copy of myschema.ipynb. You can optionally run it interactively on [binder at this link](https://mybinder.org/v2/gh/yihui-lai/coffea/5a506e83975baa75fdf3ac92de720aef79aa1446)\n",
    "\n",
    "The interpretation of the TTree data is configurable via schema objects. Schema teachs the event processor how to group variables into collections, so operations can be run over entire collection at once:\n",
    "\n",
    "In this demo, we will create our own schema and implement our own [behaviors](https://awkward-array.readthedocs.io/en/latest/ak.behavior.html). \n",
    "\n",
    "First, Let's look at the root file with `NanoAODSchema` and see what's inside of it. The events object can be instantiated as follows:\n"
   ]
  },
  {
   "cell_type": "code",
   "execution_count": 1,
   "metadata": {},
   "outputs": [
    {
     "name": "stdout",
     "output_type": "stream",
     "text": [
      "['deltaEtaSC', 'dr03EcalRecHitSumEt', 'dr03HcalDepth1TowerSumEt', 'dr03TkSumPt', 'dr03TkSumPtHEEP', 'dxy', 'dxyErr', 'dz', 'dzErr', 'eCorr', 'eInvMinusPInv', 'energyErr', 'eta', 'hoe', 'ip3d', 'jetPtRelv2', 'jetRelIso', 'mass', 'miniPFRelIso_all', 'miniPFRelIso_chg', 'mvaFall17V1Iso', 'mvaFall17V1noIso', 'mvaFall17V2Iso', 'mvaFall17V2noIso', 'pfRelIso03_all', 'pfRelIso03_chg', 'phi', 'pt', 'r9', 'sieie', 'sip3d', 'mvaTTH', 'charge', 'cutBased', 'cutBased_Fall17_V1', 'jetIdx', 'pdgId', 'photonIdx', 'tightCharge', 'vidNestedWPBitmap', 'vidNestedWPBitmapHEEP', 'convVeto', 'cutBased_HEEP', 'isPFcand', 'lostHits', 'mvaFall17V1Iso_WP80', 'mvaFall17V1Iso_WP90', 'mvaFall17V1Iso_WPL', 'mvaFall17V1noIso_WP80', 'mvaFall17V1noIso_WP90', 'mvaFall17V1noIso_WPL', 'mvaFall17V2Iso_WP80', 'mvaFall17V2Iso_WP90', 'mvaFall17V2Iso_WPL', 'mvaFall17V2noIso_WP80', 'mvaFall17V2noIso_WP90', 'mvaFall17V2noIso_WPL', 'seedGain', 'genPartIdx', 'genPartFlav', 'cleanmask', 'jetIdxG', 'photonIdxG', 'genPartIdxG']\n"
     ]
    }
   ],
   "source": [
    "from coffea.nanoevents import NanoEventsFactory, BaseSchema, NanoAODSchema\n",
    "\n",
    "fname = \"https://raw.githubusercontent.com/CoffeaTeam/coffea/master/tests/samples/nano_dy.root\"\n",
    "#fname = \"data/nano_dy.root\"\n",
    "events = NanoEventsFactory.from_root(\n",
    "           fname, \n",
    "           schemaclass=NanoAODSchema\n",
    "         ).events()\n",
    "print(events.Electron.fields)"
   ]
  },
  {
   "cell_type": "markdown",
   "metadata": {},
   "source": [
    "Now we can copy the skeleton of a schema class:"
   ]
  },
  {
   "cell_type": "code",
   "execution_count": 2,
   "metadata": {},
   "outputs": [],
   "source": [
    "class MySchema(BaseSchema):\n",
    "    \"\"\"\n",
    "    my schema\n",
    "    \"\"\"\n",
    "    def __init__(self, base_form):\n",
    "        super().__init__(base_form)\n",
    "        self._form[\"contents\"] = self._build_collections(self._form[\"contents\"])\n",
    "\n",
    "    def _build_collections(self, branch_forms):\n",
    "        output = {}\n",
    "        return output\n",
    "\n",
    "    @property\n",
    "    def behavior(self):\n",
    "        \"\"\"\n",
    "        Behaviors necessary to implement this schema\n",
    "        \"\"\"\n",
    "        behavior = {}\n",
    "        return behavior"
   ]
  },
  {
   "cell_type": "markdown",
   "metadata": {},
   "source": [
    "As you can see, this schema is so simple and it is not useful currently. If we call the `events` again with our own schema, we'll find it contains nothing."
   ]
  },
  {
   "cell_type": "code",
   "execution_count": 3,
   "metadata": {},
   "outputs": [
    {
     "data": {
      "text/plain": [
       "[]"
      ]
     },
     "execution_count": 3,
     "metadata": {},
     "output_type": "execute_result"
    }
   ],
   "source": [
    "events = NanoEventsFactory.from_root(\n",
    "           fname, \n",
    "           schemaclass=MySchema\n",
    "         ).events()\n",
    "events.fields"
   ]
  },
  {
   "cell_type": "markdown",
   "metadata": {},
   "source": [
    "## Create collections\n",
    "\n",
    "In schema, the `branch_forms` is a python dictionary used to define branch grouping. \n",
    "\n",
    "By default (`BaseSchema`), it will be completely flat:\n",
    "```python\n",
    "branch_form={\n",
    "  \"particle_pt\":{},\n",
    "  \"particle_eta\":{},\n",
    "  \"particle_phi\":{},\n",
    "  \"particle_mass\":{},\n",
    "  ...\n",
    "}\n",
    "```\n",
    "\n",
    "What we want is to put some branches into the same collection:\n",
    "\n",
    "```python\n",
    "new_branch_form={\n",
    "  \"particle\": schemas.zip_forms({\n",
    "      \"pt\" : branch_form[\"particle_pt\"],\n",
    "      \"eta\" : branch_form[\"particle_eta\"],\n",
    "      \"phi\" : branch_form[\"particle_phi\"],\n",
    "      \"mass\" : branch_form[\"particle_mass\"],\n",
    "  })\n",
    "}\n",
    "```\n",
    "So when we want to call `particle_pt`, we actually do `particle.pt`.\n",
    "\n",
    "All of this is to be implemented in the `Schema._build_collections` method. \n",
    "\n",
    "For example, let's add the `Electron` collection to our schema. To do this we also need to import `zip_forms`."
   ]
  },
  {
   "cell_type": "code",
   "execution_count": 4,
   "metadata": {},
   "outputs": [],
   "source": [
    "#from coffea.nanoevents.schemas import zip_forms\n",
    "from coffea.nanoevents.schemas.base import zip_forms #depends on the version of coffea that you are using\n",
    "class MySchema(BaseSchema):\n",
    "    \"\"\"\n",
    "    my schema\n",
    "    \"\"\"\n",
    "    def __init__(self, base_form):\n",
    "        super().__init__(base_form)\n",
    "        self._form[\"contents\"] = self._build_collections(self._form[\"contents\"])\n",
    "\n",
    "    def _build_collections(self, branch_forms):\n",
    "        output = {}\n",
    "        output[\"Electron\"] = zip_forms(\n",
    "            {\n",
    "                \"pt\" : branch_forms[\"Electron_pt\"],\n",
    "                \"eta\" : branch_forms [\"Electron_eta\"] , \n",
    "                \"phi\": branch_forms[\"Electron_phi\"],\n",
    "                \"mass\": branch_forms[\"Electron_mass\"],\n",
    "                #\"xx\": branch_forms[\"Electron_xx\"],\n",
    "            },\n",
    "            \"Electron\",\n",
    "        )\n",
    "        return output\n",
    "\n",
    "    @property\n",
    "    def behavior(self):\n",
    "        \"\"\"\n",
    "        Behaviors necessary to implement this schema\n",
    "        \"\"\"\n",
    "        behavior = {}\n",
    "        return behavior"
   ]
  },
  {
   "cell_type": "markdown",
   "metadata": {},
   "source": [
    "Now we successfully created a schema with one collection `Electron`. It will be able to recognize branchs with name `Electron_pt, Electron_eta, Electron_phi, Electron_mass`.\n",
    "Try to call the `events` again."
   ]
  },
  {
   "cell_type": "code",
   "execution_count": 5,
   "metadata": {},
   "outputs": [
    {
     "name": "stdout",
     "output_type": "stream",
     "text": [
      "['Electron']\n",
      "['pt', 'eta', 'phi', 'mass']\n"
     ]
    }
   ],
   "source": [
    "events = NanoEventsFactory.from_root(\n",
    "           fname, \n",
    "           schemaclass=MySchema\n",
    "         ).events()\n",
    "print(events.fields)\n",
    "print(events.Electron.fields)"
   ]
  },
  {
   "cell_type": "markdown",
   "metadata": {},
   "source": [
    "We can use the mask and do selection on the whole collection at once now:"
   ]
  },
  {
   "cell_type": "code",
   "execution_count": 6,
   "metadata": {},
   "outputs": [
    {
     "name": "stdout",
     "output_type": "stream",
     "text": [
      "[[], [29.6], [51.7], [10.7, 8.6], [], [9.91, ... [], [15.6], [], [7.68], [], []]\n",
      "[[], [1.83], [-0.904], [-2.19, 1.65], [], ... [], [-0.0595], [], [0.381], [], []]\n"
     ]
    }
   ],
   "source": [
    "mask = (events.Electron.pt>3) & (events.Electron.pt<60)\n",
    "good_elec = events.Electron[mask]\n",
    "print(good_elec.pt)\n",
    "print(good_elec.eta)"
   ]
  },
  {
   "cell_type": "markdown",
   "metadata": {},
   "source": [
    "However, if you require some branchs that your root file doesn't contain, errors will be returned. \n",
    "For example, uncomment the following line in `MySchema`:\n",
    "```python\n",
    "\"xx\": branch_forms[\"Electron_xx\"],\n",
    "```\n",
    "Run the above code again, you will see:\n",
    "```bash\n",
    "KeyError: 'Electron_xx'\n",
    "```"
   ]
  },
  {
   "cell_type": "markdown",
   "metadata": {},
   "source": [
    "## Create behavior\n",
    "\n",
    "Aside from collections, we can also add `behavior` to collections. This means additional awkward arrays are generated on-the-fly via predefined algorithm.\n",
    "\n",
    "A bunch of common physics behaviors are already provided in coffea, and you can find them in [methods](https://github.com/CoffeaTeam/coffea/tree/a95401cad91e88ceac47a4c693068bc4cbc7d338/coffea/nanoevents/methods).\n",
    "\n",
    "To write our own coffea behavior, first we need to define the `behavior`. \n",
    "In the following code, we definded `MyBehavior`. It only has one function `plus1()`, which returns the `particle.pt +1` when you call `particle.plus1`.\n",
    "\n",
    "we also need to add the [`record_name`](https://github.com/CoffeaTeam/coffea/blob/a95401cad91e88ceac47a4c693068bc4cbc7d338/coffea/nanoevents/schemas/base.py#L24) to the collection in the `schema._build_collections` to tell the collection which `behavior` it should use.\n",
    "\n",
    "\n"
   ]
  },
  {
   "cell_type": "code",
   "execution_count": 7,
   "metadata": {},
   "outputs": [],
   "source": [
    "import awkward \n",
    "#import awkward1 as awkward #depend on the version\n",
    "mybehavior={}\n",
    "@awkward.mixin_class(mybehavior)\n",
    "class MyBehavior:\n",
    "    \"\"\"\n",
    "    A test\n",
    "    \"\"\"\n",
    "    @property\n",
    "    def plus1(self):\n",
    "        \"\"\"\n",
    "        pt, eta, phi, mass\n",
    "        exp(pt)\n",
    "        \"\"\"\n",
    "        return self.pt+1 \n",
    "\n",
    "class MySchema(BaseSchema):\n",
    "    \"\"\"\n",
    "    my schema\n",
    "    \"\"\"\n",
    "    def __init__(self, base_form):\n",
    "        super().__init__(base_form)\n",
    "        self._form[\"contents\"] = self._build_collections(self._form[\"contents\"])\n",
    "\n",
    "    def _build_collections(self, branch_forms):\n",
    "        output = {}\n",
    "        output[\"Electron\"] = zip_forms(\n",
    "            {\n",
    "                \"pt\" : branch_forms[\"Electron_pt\"],\n",
    "                \"eta\" : branch_forms [\"Electron_eta\"] , \n",
    "                \"phi\": branch_forms[\"Electron_phi\"],\n",
    "                \"mass\": branch_forms[\"Electron_mass\"],\n",
    "                #\"xx\": branch_forms[\"Electron_xx\"],\n",
    "            },\n",
    "            \"Electron\",\n",
    "            \"MyBehavior\",\n",
    "        )\n",
    "        return output\n",
    "\n",
    "    @property\n",
    "    def behavior(self):\n",
    "        \"\"\"\n",
    "        Behaviors necessary to implement this schema\n",
    "        \"\"\"\n",
    "        behavior = {}\n",
    "        behavior.update(mybehavior)\n",
    "        return behavior"
   ]
  },
  {
   "cell_type": "markdown",
   "metadata": {},
   "source": [
    "Now try our self-defined behavior:"
   ]
  },
  {
   "cell_type": "code",
   "execution_count": 8,
   "metadata": {
    "scrolled": true
   },
   "outputs": [
    {
     "name": "stdout",
     "output_type": "stream",
     "text": [
      "[[], [29.6], [60.1, 51.7], [10.7, 8.6], [], ... [], [15.6], [], [7.68], [], []]\n",
      "[[], [30.6], [61.1, 52.7], [11.7, 9.6], [], ... [], [16.6], [], [8.68], [], []]\n"
     ]
    }
   ],
   "source": [
    "events = NanoEventsFactory.from_root(\n",
    "           fname, \n",
    "           schemaclass=MySchema\n",
    "         ).events()\n",
    "print(events.Electron.pt)\n",
    "print(events.Electron.plus1)"
   ]
  },
  {
   "cell_type": "code",
   "execution_count": null,
   "metadata": {},
   "outputs": [],
   "source": []
  }
 ],
 "metadata": {
  "kernelspec": {
   "display_name": "Python 3",
   "language": "python",
   "name": "python3"
  },
  "language_info": {
   "codemirror_mode": {
    "name": "ipython",
    "version": 3
   },
   "file_extension": ".py",
   "mimetype": "text/x-python",
   "name": "python",
   "nbconvert_exporter": "python",
   "pygments_lexer": "ipython3",
   "version": "3.8.1"
  }
 },
 "nbformat": 4,
 "nbformat_minor": 2
}
